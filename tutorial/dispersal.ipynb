{
 "metadata": {
  "name": "",
  "signature": "sha256:90581d2db2b95648674bccd5c4fcb5fd91217da6da773c7412edc220c1f4d746"
 },
 "nbformat": 3,
 "nbformat_minor": 0,
 "worksheets": [
  {
   "cells": [
    {
     "cell_type": "markdown",
     "metadata": {},
     "source": [
      "# Alep Tutorial\n",
      "\n",
      "## Dispersal\n",
      "\n",
      "Rational"
     ]
    },
    {
     "cell_type": "code",
     "collapsed": false,
     "input": [
      "# Python import\n",
      "import collections\n",
      "\n",
      "# Wheat simulation\n",
      "from alinea.adel.astk_interface import AdelWheat\n",
      "\n",
      "# Lesion \n",
      "from alinea.alep.fungus import Lesion, Fungus\n",
      "\n",
      "# Dispersal Models\n",
      "from alinea.alep.dispersal_emission import SimpleEmission\n",
      "from alinea.alep.dispersal_transport import SeptoriaRainDispersal, PowderyMildewWindDispersal, BrownRustDispersal\n",
      "\n",
      "# Generic algorithm to disperse DispersalUnit on MTG\n",
      "from alinea.alep.protocol import disperse\n",
      "\n",
      "# Ploting functions\n",
      "from alinea.alep.disease_outputs import plot3d_transparency\n",
      "\n",
      "# PlantGL geometric library\n",
      "import openalea.plantgl.all as pgl\n",
      "\n",
      "# MTG selection\n",
      "from alinea.alep.architecture import get_leaves\n"
     ],
     "language": "python",
     "metadata": {},
     "outputs": []
    },
    {
     "cell_type": "code",
     "collapsed": false,
     "input": [
      "%gui qt"
     ],
     "language": "python",
     "metadata": {},
     "outputs": []
    },
    {
     "cell_type": "markdown",
     "metadata": {},
     "source": [
      "### Two generic functions"
     ]
    },
    {
     "cell_type": "code",
     "collapsed": false,
     "input": [
      "# utilities to place the source leaf\n",
      "def is_iterable(obj):\n",
      "    \"\"\" Test if object is iterable \"\"\"\n",
      "    return isinstance(obj, collections.Iterable)\n",
      "    \n",
      "def get_source_leaf_and_max_height(g, position='center', relative_height=2./3):\n",
      "    \"\"\" Returns the vertex identifier and its height (z ccord).\n",
      "    \n",
      "    :Algorithm:\n",
      "        Select all the leaves.\n",
      "        Compute the bounding box of each leaf and its center (centroid).\n",
      "        Compute the maximum height (z max) of all the centroids\n",
      "        Then, compute the distance (norm) ???\n",
      "    \"\"\"\n",
      "    tesselator = pgl.Tesselator()\n",
      "    bbc = pgl.BBoxComputer(tesselator)\n",
      "    leaves = get_leaves(g, label='LeafElement')\n",
      "    centroids = g.property('centroid')\n",
      "    geometries = g.property('geometry')\n",
      "    targets = list(leaf for leaf in leaves if leaf in geometries.iterkeys())\n",
      "    for vid in targets:\n",
      "        if is_iterable(geometries[vid]):\n",
      "            bbc.process(pgl.Scene(geometries[vid]))\n",
      "        else:\n",
      "            bbc.process(pgl.Scene([pgl.Shape(geometries[vid])]))\n",
      "        center = bbc.result.getCenter()\n",
      "        centroids[vid] = center\n",
      "    zmax = max(centroids.items(), key=lambda x:x[1][2])[1][2]\n",
      "    distances = {vid:pgl.norm(centroids[vid]-(0,0,relative_height*zmax)) for vid in centroids}\n",
      "    if position=='center':\n",
      "        return min(distances.items(), key=lambda x:x[1])[0], zmax\n",
      "    elif position=='border':\n",
      "        return max(distances.items(), key=lambda x:x[1])[0], zmax\n"
     ],
     "language": "python",
     "metadata": {},
     "outputs": []
    },
    {
     "cell_type": "markdown",
     "metadata": {},
     "source": [
      "## Create your own lesion"
     ]
    },
    {
     "cell_type": "code",
     "collapsed": false,
     "input": [
      "fungus_name = \"lesion_tutorial\"\n",
      "\n",
      "# Create our own emitting lesion for this example\n",
      "class LesionTutoDispersal(Lesion):\n",
      "    def __init__(self, mutable=False):\n",
      "        super(LesionTutoDispersal, self).__init__()\n",
      "        self.fungus_name = fungus_name\n",
      "\n",
      "    def emission(*args, **kwds):\n",
      "        return 10000\n"
     ],
     "language": "python",
     "metadata": {},
     "outputs": []
    },
    {
     "cell_type": "markdown",
     "metadata": {},
     "source": [
      "## Create a lesion instance used for the dispersal model"
     ]
    },
    {
     "cell_type": "code",
     "collapsed": false,
     "input": [
      "fungus = Fungus(Lesion=LesionTutoDispersal, parameters={\"name\":fungus_name})\n",
      "source_lesion = fungus.lesion()\n"
     ],
     "language": "python",
     "metadata": {},
     "outputs": []
    },
    {
     "cell_type": "markdown",
     "metadata": {},
     "source": [
      "## Create a wheat architectural model with geometry at a given development stage"
     ]
    },
    {
     "cell_type": "code",
     "collapsed": false,
     "input": [
      "# create wheat canopy \n",
      "adel= AdelWheat(nplants=20, nsect=7)\n",
      "g = adel.setup_canopy(100)"
     ],
     "language": "python",
     "metadata": {},
     "outputs": []
    },
    {
     "cell_type": "markdown",
     "metadata": {},
     "source": [
      "# Plot the 3D plants"
     ]
    },
    {
     "cell_type": "code",
     "collapsed": false,
     "input": [
      "pgl.Viewer.display(adel.plot(g))"
     ],
     "language": "python",
     "metadata": {},
     "outputs": []
    },
    {
     "cell_type": "markdown",
     "metadata": {},
     "source": [
      "# Select some leaves to set the infectious status"
     ]
    },
    {
     "cell_type": "code",
     "collapsed": false,
     "input": [
      "leaf_ids = get_leaves(g, label='LeafElement')\n",
      "\n",
      "# Deterministic choice \n",
      "leaf_index = 1\n",
      "# Select randomly a leaf\n",
      "from random import randint\n",
      "leaf_index = randint(1, len(leaf_ids))-1\n",
      "\n",
      "source_leaf = leaf_ids[leaf_index]\n",
      "\n",
      "# Alternatively, pick a leaf based on its position in the canopy\n",
      "vid, hmax = get_source_leaf_and_max_height(g)\n",
      "source_leaf = g.node(vid)\n"
     ],
     "language": "python",
     "metadata": {},
     "outputs": []
    },
    {
     "cell_type": "markdown",
     "metadata": {},
     "source": [
      "# Inoculate the source leaf"
     ]
    },
    {
     "cell_type": "code",
     "collapsed": false,
     "input": [
      "# inoculate this leaf\n",
      "source_lesion.is_sporulating = True # Required for Popdrops usage\n",
      "source_leaf.lesions = [source_lesion]"
     ],
     "language": "python",
     "metadata": {},
     "outputs": []
    },
    {
     "cell_type": "markdown",
     "metadata": {},
     "source": [
      "# Setup the dispersal models"
     ]
    },
    {
     "cell_type": "code",
     "collapsed": false,
     "input": [
      "# Setup dispersal models + parameters for dispersion\n",
      "emitter = SimpleEmission()\n",
      "#rain 3d (slow)\n",
      "transporter = SeptoriaRainDispersal()\n",
      "# wind 3d (callonec model)\n",
      "#transporter = PowderyMildewWindDispersal(label='LeafElement')\n",
      "# wind 1D\n",
      "#transporter = BrownRustDispersal(domain_area=adel.domain_area)\n",
      "# missing : rian 1D (septo 3d dispersal model)\n"
     ],
     "language": "python",
     "metadata": {},
     "outputs": []
    },
    {
     "cell_type": "markdown",
     "metadata": {},
     "source": [
      "# Simulate using the generic algorithm"
     ]
    },
    {
     "cell_type": "code",
     "collapsed": false,
     "input": [
      "# Simulate one dispersal event\n",
      "g = disperse(g, emission_model=emitter, transport_model=transporter, fungus_name=fungus_name)\n",
      "\n"
     ],
     "language": "python",
     "metadata": {},
     "outputs": []
    },
    {
     "cell_type": "markdown",
     "metadata": {},
     "source": [
      "# Plot the results"
     ]
    },
    {
     "cell_type": "code",
     "collapsed": false,
     "input": [
      "# Visualize (currently only works for septoria)\n",
      "# rain/ wind\n",
      "transporter.plot_distri_3d(g)\n",
      "# wind 1D\n",
      "#transporter.plot_layers(g)\n"
     ],
     "language": "python",
     "metadata": {},
     "outputs": []
    },
    {
     "cell_type": "code",
     "collapsed": false,
     "input": [],
     "language": "python",
     "metadata": {},
     "outputs": []
    }
   ],
   "metadata": {}
  }
 ]
}