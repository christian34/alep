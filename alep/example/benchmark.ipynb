{
 "metadata": {
  "name": "",
  "signature": "sha256:640eefe9c49f81df960459d00539ab79b721bf77b5b088fb6c15e96a8a17db37"
 },
 "nbformat": 3,
 "nbformat_minor": 0,
 "worksheets": [
  {
   "cells": [
    {
     "cell_type": "heading",
     "level": 1,
     "metadata": {},
     "source": [
      "Measure the computing performance (time, memory) of the model of septoria"
     ]
    },
    {
     "cell_type": "code",
     "collapsed": false,
     "input": [
      "# General useful imports\n",
      "import random as rd\n",
      "rd.seed(0)\n",
      "import numpy as np\n",
      "np.random.seed(0)\n",
      "import pandas as pd\n",
      "\n",
      "# Imports for wheat\n",
      "from alinea.alep.wheat import adel_sample\n",
      "from alinea.alep.architecture import set_properties, update_healthy_area, get_leaves\n",
      "from alinea.adel.mtg_interpreter import *\n",
      "from openalea.plantgl.all import *\n",
      "\n",
      "# Imports for disease\n",
      "from alinea.alep.protocol import *\n",
      "from alinea.alep.septoria import plugin_septoria\n",
      "from alinea.alep.disease_operation import generate_stock_lesions\n",
      "from alinea.alep.dispersal_emission import BenchSeptoriaRainEmission\n",
      "from alinea.alep.dispersal_transport import SeptoriaRainDispersal\n",
      "from alinea.septo3d.alep_interfaces import Septo3DSplash\n",
      "from alinea.alep.washing import RapillyWashing\n",
      "from alinea.alep.growth_control import NoPriorityGrowthControl\n",
      "from alinea.alep.infection_control import BiotrophDUPositionModel\n",
      "from alinea.alep.senescence import WheatSeptoriaPositionedSenescence"
     ],
     "language": "python",
     "metadata": {},
     "outputs": [],
     "prompt_number": 1
    },
    {
     "cell_type": "heading",
     "level": 2,
     "metadata": {},
     "source": [
      "Typical scenario"
     ]
    },
    {
     "cell_type": "code",
     "collapsed": false,
     "input": [
      "def run_simulation(nb_plants, nb_phyelts, nb_lesions):\n",
      "    # Generate required canopy\n",
      "    g, domain_area = adel_sample(nb_sect=nb_phyelts, d=1000, p=nb_plants)\n",
      "    set_properties(g, label = 'LeafElement', \n",
      "                   area=5., green_area=5., healthy_area=5., senesced_area=0., position_senescence=1.,\n",
      "                   temp = 22., wetness = True, relative_humidity = 90, rain_intensity = 0., rain_duration = 0.)\n",
      "    \n",
      "    # Initiate all models used for simulation\n",
      "    septoria = plugin_septoria('septoria_age_physio')\n",
      "    Lesion = septoria.lesion()\n",
      "    growth_controler = NoPriorityGrowthControl()\n",
      "    infection_controler = BiotrophDUPositionModel()\n",
      "    sen_model = WheatSeptoriaPositionedSenescence(g, label='LeafElement')\n",
      "    emitter = BenchSeptoriaRainEmission(domain_area=domain_area)\n",
      "    transporter = Septo3DSplash()\n",
      "    washor = RapillyWashing()\n",
      "    \n",
      "    # Initiate lesions on each phyto-element\n",
      "    lesions = generate_stock_lesions(nb_lesions=nb_lesions, disease=septoria)\n",
      "    leaves = get_leaves(g, label = 'LeafElement')\n",
      "    for leaf in leaves:\n",
      "        g.node(leaf).lesions = generate_stock_lesions(nb_lesions=nb_lesions, disease=septoria, position=[rd.random(), rd.random()])\n",
      "    \n",
      "    # Simulation\n",
      "    nb_steps=1000\n",
      "    for i in range(nb_steps):\n",
      "        sen_model.find_senescent_lesions(g, label = 'LeafElement')\n",
      "        update_healthy_area(g, label = 'LeafElement')\n",
      "        infect(g, 1, infection_controler, label='LeafElement')\n",
      "        update(g, 1, growth_controler, sen_model, label='LeafElement')   \n",
      "        if i>0 and i%50==0:\n",
      "            set_properties(g,label = 'LeafElement', rain_intensity = 1., rain_duration = 1.)           \n",
      "            g,nb = disperse(g, emitter, transporter, \"septoria\", label='LeafElement')\n",
      "            wash(g, washor, 1., label='LeafElement')\n",
      "        else:\n",
      "            set_properties(g,label = 'LeafElement', rain_intensity = 0., rain_duration = 0.)"
     ],
     "language": "python",
     "metadata": {},
     "outputs": [],
     "prompt_number": 2
    },
    {
     "cell_type": "heading",
     "level": 2,
     "metadata": {},
     "source": [
      "Benchmark for various numbers of plants, phyto-elements by leaf, initial number of lesions by leaf"
     ]
    },
    {
     "cell_type": "code",
     "collapsed": false,
     "input": [
      "from openalea.core.path import path\n",
      "\n",
      "results = {}\n",
      "def save():\n",
      "    df = pd.DataFrame(results, columns=['plant', 'phytomer', 'lesion', 'time'])\n",
      "    df.to_csv('bench.txt', index=False)\n",
      "\n",
      "def load():\n",
      "    global results\n",
      "    df = pd.DataFrame.from_csv('bench.txt',sep=',',index_col=None)\n",
      "    rec = df.to_records()\n",
      "    results['plant']=rec.plant.tolist()\n",
      "    results['phytomer']=rec.phytomer.tolist()\n",
      "    results['lesion']=rec.lesion.tolist()\n",
      "    results['time']=rec.time.tolist()\n",
      "\n",
      "def init():\n",
      "    global results\n",
      "    results['plant']=[]\n",
      "    results['phytomer']=[]\n",
      "    results['lesion']=[]\n",
      "    results['time']=[]\n",
      "    df = pd.DataFrame.from_dict(results)\n",
      "\n",
      "def merge(results):\n",
      "    df1 = pd.DataFrame.from_csv('bench.txt',sep=',',index_col=None)\n",
      "    df2 = pd.DataFrame(results, columns=['plant', 'phytomer', 'lesion', 'time'])\n",
      "    rec1 = df1.to_records()\n",
      "    rec2 = df2.to_records()\n",
      "    results = {}\n",
      "    results['plant']=rec1.plant.tolist()+rec2.plant.tolist()\n",
      "    results['phytomer']=rec1.phytomer.tolist()+rec2.phytomer.tolist()\n",
      "    results['lesion']=rec1.lesion.tolist()+rec2.lesion.tolist()\n",
      "    results['time']=rec1.time.tolist()+rec2.time.tolist()\n",
      "    df = pd.DataFrame(results, columns=['plant', 'phytomer', 'lesion', 'time'])\n",
      "    df.to_csv('bench.txt', index=False)\n",
      "        "
     ],
     "language": "python",
     "metadata": {},
     "outputs": [],
     "prompt_number": 3
    },
    {
     "cell_type": "code",
     "collapsed": false,
     "input": [
      "# time benchmark\n",
      "from datetime import datetime as dt\n",
      "\n",
      "repeat = 1\n",
      "def measure(plant=1, phy=1, les=1):\n",
      "    start = dt.now()\n",
      "    run_simulation(plant, phy, les)\n",
      "    timelaps = (dt.now()-start).total_seconds()\n",
      "    return timelaps\n",
      "\n",
      "def bench(plant, phy, les):\n",
      "    times=[measure(plant, phy, les) for i in range(repeat)]\n",
      "    _time =min(times)\n",
      "    print _time\n",
      "    results['plant'].append(plant)\n",
      "    results['phytomer'].append(phy)\n",
      "    results['lesion'].append(les)\n",
      "    results['time'].append(_time)"
     ],
     "language": "python",
     "metadata": {},
     "outputs": [],
     "prompt_number": 4
    },
    {
     "cell_type": "code",
     "collapsed": false,
     "input": [],
     "language": "python",
     "metadata": {},
     "outputs": []
    }
   ],
   "metadata": {}
  }
 ]
}