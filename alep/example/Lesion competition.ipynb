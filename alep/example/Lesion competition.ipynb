{
 "metadata": {
  "name": ""
 },
 "nbformat": 3,
 "nbformat_minor": 0,
 "worksheets": [
  {
   "cells": [
    {
     "cell_type": "heading",
     "level": 1,
     "metadata": {},
     "source": [
      "Competition between lesion on a single leaf"
     ]
    },
    {
     "cell_type": "code",
     "collapsed": false,
     "input": [
      "import numpy as np\n",
      "import pandas as pd\n",
      "from pylab import *\n",
      "from IPython.display import *\n",
      "\n",
      "%matplotlib inline\n",
      "rcParams['figure.figsize']=(20,16)\n"
     ],
     "language": "python",
     "metadata": {},
     "outputs": [],
     "prompt_number": 55
    },
    {
     "cell_type": "markdown",
     "metadata": {},
     "source": [
      "Algorithm\n",
      "=========\n",
      "  - Step 1: Creation of a leaf\n",
      "  - Step 2: Initialisation of the first lesion\n",
      "  - For each time step:\n",
      "      - Step 3: Growth of each lesion\n",
      "      - Step 4: Spatialisation and Competition of the lesions\n",
      "      - At each dispersal events, new lesions are deposited\n",
      "      - Visualisation of the leaf status\n",
      "\n"
     ]
    },
    {
     "cell_type": "markdown",
     "metadata": {},
     "source": [
      "Step 1 : Simulation of a leaf as a square domain (image)\n",
      "------\n",
      "\n",
      "* Model parameters: \n",
      "  - domain= length, width => $L$, $W$\n",
      "  - size of a cell = dl, dw => $dL$, $dW$"
     ]
    },
    {
     "cell_type": "code",
     "collapsed": false,
     "input": [
      "# Parameters of the model\n",
      "L, W = 10, 3\n",
      "dL, dW= 0.01, 0.01\n",
      "\n",
      "leaf = np.zeros((int(L/dL), int(W/dW)), dtype=int)"
     ],
     "language": "python",
     "metadata": {},
     "outputs": [],
     "prompt_number": 78
    },
    {
     "cell_type": "markdown",
     "metadata": {},
     "source": [
      "Step 2 : Initialisation of the first lesion\n",
      "------\n",
      "\n",
      "* Model parameters: \n",
      "  - Number of lesion= 10 => $n= 10$\n",
      "* Lesion object:\n",
      "    - constant values: position = (x, y) , identifier = id\n",
      "    - age: age of the lesion\n",
      "    - l, w : length (resp. width) of the lesion \n",
      "$$lesion = {age, l, w, x, y, identifier}$$"
     ]
    },
    {
     "cell_type": "code",
     "collapsed": false,
     "input": [
      "class Lesion(object):\n",
      "    lid = 0\n",
      "    ratio = 4.\n",
      "    dS = 0.0006\n",
      "    def __init__(self, x, y):\n",
      "        self.age = 0\n",
      "        self.x = x\n",
      "        self.y = y\n",
      "        self.w = 0.03/self.ratio\n",
      "        self.l = self.ratio * self.w\n",
      "        self.Smax = 0.3\n",
      "        Lesion.lid += 1\n",
      "        self.lid = Lesion.lid\n",
      "        \n",
      "    def reset(self):\n",
      "        Lesion.lid=0\n",
      "        \n",
      "    def pixels(self, leaf):\n",
      "        return leaf==self.lid\n",
      "    \n",
      "    def growth(self, dt):\n",
      "        if self.surface <= self.Smax:\n",
      "            self.dw = self.dS/(2*(self.ratio*self.l + self.w))\n",
      "            self.dl = self.ratio*self.dw\n",
      "            self.l += self.dl*dt\n",
      "            self.w += self.dw*dt\n",
      "            self.age += dt\n",
      "    \n",
      "    @property\n",
      "    def surface(self):\n",
      "        return self.l*self.w\n",
      "        \n",
      "def colonisation(leaf, lesions):\n",
      "    \"\"\"\n",
      "    TODO: the growth is not limited by the competition:\n",
      "    Compute the increment of surface in each dimenion and update the length and the width of the lesion \n",
      "    \"\"\"\n",
      "    X, Y = leaf.shape\n",
      "    \n",
      "    for lesion in lesions:\n",
      "        lid = lesion.lid\n",
      "        px, py = int(lesion.x*X), int(lesion.y*Y)\n",
      "        pdx, pdy =  max(1,int(lesion.l/(2*dL))), max(1,int(lesion.w/(2*dW))) # inf part of the lesion\n",
      "        slices = slice(max(0,px - pdx), min(px + pdx,X)), slice(max(0,py - pdy), min(Y,py + pdy))\n",
      "        \n",
      "        leaf[slices] = np.where(leaf[slices] == 0, lid, leaf[slices]) \n",
      "    \n",
      "    return leaf\n",
      "        "
     ],
     "language": "python",
     "metadata": {},
     "outputs": [],
     "prompt_number": 79
    },
    {
     "cell_type": "code",
     "collapsed": false,
     "input": [
      "lesions = []\n",
      "Lesion.lid = 0\n",
      "\n",
      "def init_lesion(leaf, n=10):\n",
      "    X, Y = leaf.shape\n",
      "    for i in range(n):\n",
      "        x, y = np.random.random(2)\n",
      "        px, py = int(x*X), int(y*Y)\n",
      "        if leaf[x,y]==0:\n",
      "            lesions.append(Lesion(x,y))\n",
      "        \n",
      "    leaf = colonisation(leaf, lesions)\n",
      "    return leaf\n",
      "leaf = init_lesion(leaf)\n",
      "imshow(leaf)"
     ],
     "language": "python",
     "metadata": {},
     "outputs": [
      {
       "metadata": {},
       "output_type": "pyout",
       "prompt_number": 80,
       "text": [
        "<matplotlib.image.AxesImage at 0x105df890>"
       ]
      },
      {
       "metadata": {},
       "output_type": "display_data",
       "png": "[encoded data removed]",
       "text": [
        "<matplotlib.figure.Figure at 0x9a3a2b0>"
       ]
      }
     ],
     "prompt_number": 80
    },
    {
     "cell_type": "code",
     "collapsed": false,
     "input": [
      "nb_steps = 1000\n",
      "for i in range(nb_steps):\n",
      "    if i==200 or i==500:\n",
      "        leaf = init_lesion(leaf)\n",
      "    for lesion in lesions:\n",
      "        lesion.growth(dt=1.)\n",
      "    leaf = colonisation(leaf,lesions)"
     ],
     "language": "python",
     "metadata": {},
     "outputs": [],
     "prompt_number": 83
    },
    {
     "cell_type": "code",
     "collapsed": false,
     "input": [
      "imshow(leaf)"
     ],
     "language": "python",
     "metadata": {},
     "outputs": [
      {
       "metadata": {},
       "output_type": "pyout",
       "prompt_number": 84,
       "text": [
        "<matplotlib.image.AxesImage at 0x107a7c90>"
       ]
      },
      {
       "metadata": {},
       "output_type": "display_data",
       "png": "[encoded data removed]",
       "text": [
        "<matplotlib.figure.Figure at 0x105fcf10>"
       ]
      }
     ],
     "prompt_number": 84
    },
    {
     "cell_type": "code",
     "collapsed": false,
     "input": [
      "surfaces = [(leaf==l.lid).sum() for l in lesions]\n",
      "hist(surfaces)"
     ],
     "language": "python",
     "metadata": {},
     "outputs": [
      {
       "metadata": {},
       "output_type": "pyout",
       "prompt_number": 38,
       "text": [
        "(array([ 3,  0,  0,  0,  0,  0,  3,  7,  9, 28]),\n",
        " array([   28. ,   158.4,   288.8,   419.2,   549.6,   680. ,   810.4,\n",
        "         940.8,  1071.2,  1201.6,  1332. ]),\n",
        " <a list of 10 Patch objects>)"
       ]
      },
      {
       "metadata": {},
       "output_type": "display_data",
       "png": "[encoded data removed]",
       "text": [
        "<matplotlib.figure.Figure at 0x66ec8d0>"
       ]
      }
     ],
     "prompt_number": 38
    },
    {
     "cell_type": "code",
     "collapsed": false,
     "input": [
      "\n",
      "imshow(leaf,interpolation='nearest')"
     ],
     "language": "python",
     "metadata": {},
     "outputs": [
      {
       "metadata": {},
       "output_type": "pyout",
       "prompt_number": 69,
       "text": [
        "<matplotlib.image.AxesImage at 0x9a283f0>"
       ]
      },
      {
       "metadata": {},
       "output_type": "display_data",
       "png": "[encoded data removed]",
       "text": [
        "<matplotlib.figure.Figure at 0x96878b0>"
       ]
      }
     ],
     "prompt_number": 69
    },
    {
     "cell_type": "code",
     "collapsed": false,
     "input": [],
     "language": "python",
     "metadata": {},
     "outputs": [],
     "prompt_number": "*"
    },
    {
     "cell_type": "code",
     "collapsed": false,
     "input": [],
     "language": "python",
     "metadata": {},
     "outputs": []
    }
   ],
   "metadata": {}
  }
 ]
}