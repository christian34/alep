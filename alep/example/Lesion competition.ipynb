{
 "metadata": {
  "name": ""
 },
 "nbformat": 3,
 "nbformat_minor": 0,
 "worksheets": [
  {
   "cells": [
    {
     "cell_type": "heading",
     "level": 1,
     "metadata": {},
     "source": [
      "Competition between lesion on a single leaf"
     ]
    },
    {
     "cell_type": "code",
     "collapsed": false,
     "input": [
      "%matplotlib inline\n",
      "import numpy as np\n",
      "import pandas as pd\n",
      "from pylab import *\n",
      "from IPython.display import *"
     ],
     "language": "python",
     "metadata": {},
     "outputs": [],
     "prompt_number": 32
    },
    {
     "cell_type": "markdown",
     "metadata": {},
     "source": [
      "Algorithm\n",
      "=========\n",
      "  - Step 1: Creation of a leaf\n",
      "  - Step 2: Initialisation of the first lesion\n",
      "  - For each time step:\n",
      "      - Step 3: Growth of each lesion\n",
      "      - Step 4: Spatialisation and Competition of the lesions\n",
      "      - At each dispersal events, new lesions are deposited\n",
      "      - Visualisation of the leaf status\n",
      "\n"
     ]
    },
    {
     "cell_type": "markdown",
     "metadata": {},
     "source": [
      "Step 1 : Simulation of a leaf as a square domain (image)\n",
      "------\n",
      "\n",
      "* Model parameters: \n",
      "  - domain= length, width => $L$, $W$\n",
      "  - size of a cell = dl, dw => $dL$, $dW$"
     ]
    },
    {
     "cell_type": "code",
     "collapsed": false,
     "input": [
      "# Parameters of the model\n",
      "L, W = 100, 30\n",
      "dL, dW= 0.3, 0.2\n",
      "\n",
      "leaf = np.zeros((int(L/dL), int(W/dW)), dtype=int)"
     ],
     "language": "python",
     "metadata": {},
     "outputs": [],
     "prompt_number": 3
    },
    {
     "cell_type": "markdown",
     "metadata": {},
     "source": [
      "Step 2 : Initialisation of the first lesion\n",
      "------\n",
      "\n",
      "* Model parameters: \n",
      "  - Number of lesion= 10 => $n= 10$\n",
      "* Lesion object:\n",
      "    - constant values: position = (x, y) , identifier = id\n",
      "    - age: age of the lesion\n",
      "    - l, w : length (resp. width) of the lesion \n",
      "$$lesion = {age, l, w, x, y, identifier}$$"
     ]
    },
    {
     "cell_type": "code",
     "collapsed": false,
     "input": [
      "class Lesion(object):\n",
      "    lid = 0\n",
      "    dl = 0.03\n",
      "    dw = 0.02\n",
      "    def __init__(self, x, y):\n",
      "        self.age = 0\n",
      "        self.x = x\n",
      "        self.y = y\n",
      "        self.l, self.w = 2./30, 1./30\n",
      "        Lesion.lid += 1\n",
      "        self.lid = Lesion.lid\n",
      "        \n",
      "    def reset(self):\n",
      "        Lesion.lid=0\n",
      "        \n",
      "    def pixels(self, leaf):\n",
      "        return leaf==self.lid\n",
      "    \n",
      "    def growth(self, dt):\n",
      "        self.l += self.dl*dt\n",
      "        self.w += self.dw*dt\n",
      "        self.age += dt\n",
      "        \n",
      "def colonisation(leaf, lesions):\n",
      "    \"\"\"\n",
      "    TODO: the growth is not limited by the competition:\n",
      "    Compute the increment of surface in each dimenion and update the length and the width of the lesion \n",
      "    \"\"\"\n",
      "    X, Y = leaf.shape\n",
      "    \n",
      "    for lesion in lesions:\n",
      "        lid = lesion.lid\n",
      "        px, py = int(lesion.x*X), int(lesion.y*Y)\n",
      "        pdx, pdy =  int(lesion.l*X/2), int(lesion.w*Y/2) # inf part of the lesion\n",
      "        slices = slice(px - pdx, px + pdx), slice(py - pdy, py + pdy)\n",
      "        \n",
      "        leaf[slices] = np.where(leaf[slices] == 0, lid, leaf[slices]) \n",
      "    \n",
      "    return leaf\n",
      "        "
     ],
     "language": "python",
     "metadata": {},
     "outputs": [],
     "prompt_number": 71
    },
    {
     "cell_type": "code",
     "collapsed": false,
     "input": [
      "lesions = []\n",
      "Lesion.lid = 0\n",
      "def init_lesion(leaf, n=10):\n",
      "    leaf[:,:] = 0\n",
      "    \n",
      "    for i in range(n):\n",
      "        x, y = np.random.random(2)\n",
      "        lesions.append(Lesion(x,y))\n",
      "        \n",
      "    leaf = colonisation(leaf, lesions)\n",
      "    return leaf\n",
      "leaf = init_lesion(leaf)\n",
      "imshow(leaf)"
     ],
     "language": "python",
     "metadata": {},
     "outputs": [
      {
       "metadata": {},
       "output_type": "pyout",
       "prompt_number": 72,
       "text": [
        "<matplotlib.image.AxesImage at 0x10fb09390>"
       ]
      },
      {
       "metadata": {},
       "output_type": "display_data",
       "png": "[encoded data removed]",
       "text": [
        "<matplotlib.figure.Figure at 0x10f9e03d0>"
       ]
      }
     ],
     "prompt_number": 72
    },
    {
     "cell_type": "code",
     "collapsed": false,
     "input": [
      "surfaces = [(leaf==l.lid).sum() for l in lesions]\n",
      "hist(surfaces)\n",
      "    \n",
      "    "
     ],
     "language": "python",
     "metadata": {},
     "outputs": [
      {
       "metadata": {},
       "output_type": "pyout",
       "prompt_number": 63,
       "text": [
        "(array([  0.,   0.,   0.,   0.,   0.,  10.,   0.,   0.,   0.,   0.]),\n",
        " array([ 87.5,  87.6,  87.7,  87.8,  87.9,  88. ,  88.1,  88.2,  88.3,\n",
        "        88.4,  88.5]),\n",
        " <a list of 10 Patch objects>)"
       ]
      },
      {
       "metadata": {},
       "output_type": "display_data",
       "png": "[encoded data removed]",
       "text": [
        "<matplotlib.figure.Figure at 0x10f3f5190>"
       ]
      }
     ],
     "prompt_number": 63
    },
    {
     "cell_type": "code",
     "collapsed": false,
     "input": [
      "nb_steps = 10\n",
      "for i in range(nb_steps):\n",
      "    for lesion in lesions:\n",
      "        lesion.growth(dt=1.)\n",
      "    leaf = colonisation(leaf,lesions)"
     ],
     "language": "python",
     "metadata": {},
     "outputs": [],
     "prompt_number": 73
    },
    {
     "cell_type": "code",
     "collapsed": false,
     "input": [
      "imshow(leaf)"
     ],
     "language": "python",
     "metadata": {},
     "outputs": [
      {
       "metadata": {},
       "output_type": "pyout",
       "prompt_number": 74,
       "text": [
        "<matplotlib.image.AxesImage at 0x10fc64990>"
       ]
      },
      {
       "metadata": {},
       "output_type": "display_data",
       "png": "[encoded data removed]",
       "text": [
        "<matplotlib.figure.Figure at 0x10f97a650>"
       ]
      }
     ],
     "prompt_number": 74
    },
    {
     "cell_type": "code",
     "collapsed": false,
     "input": [
      "dw"
     ],
     "language": "python",
     "metadata": {},
     "outputs": [
      {
       "metadata": {},
       "output_type": "pyout",
       "prompt_number": 69,
       "text": [
        "0.3"
       ]
      }
     ],
     "prompt_number": 69
    },
    {
     "cell_type": "code",
     "collapsed": false,
     "input": [
      "dl"
     ],
     "language": "python",
     "metadata": {},
     "outputs": [
      {
       "metadata": {},
       "output_type": "pyout",
       "prompt_number": 70,
       "text": [
        "1"
       ]
      }
     ],
     "prompt_number": 70
    },
    {
     "cell_type": "code",
     "collapsed": false,
     "input": [],
     "language": "python",
     "metadata": {},
     "outputs": []
    }
   ],
   "metadata": {}
  }
 ]
}