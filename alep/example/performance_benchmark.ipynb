{
 "metadata": {
  "name": ""
 },
 "nbformat": 3,
 "nbformat_minor": 0,
 "worksheets": [
  {
   "cells": [
    {
     "cell_type": "heading",
     "level": 1,
     "metadata": {},
     "source": [
      "Measure the computing performance (time, memory) of the model of septoria"
     ]
    },
    {
     "cell_type": "code",
     "collapsed": false,
     "input": [
      "# General useful imports\n",
      "import random as rd\n",
      "rd.seed(0)\n",
      "import numpy as np\n",
      "np.random.seed(0)\n",
      "import pandas as pd\n",
      "\n",
      "# Imports for wheat\n",
      "from alinea.alep.wheat import adel_sample\n",
      "from alinea.alep.architecture import set_properties, update_healthy_area, get_leaves\n",
      "from alinea.adel.mtg_interpreter import *\n",
      "from openalea.plantgl.all import *\n",
      "\n",
      "# Imports for disease\n",
      "from alinea.alep.protocol import *\n",
      "from alinea.alep.septoria import plugin_septoria\n",
      "from alinea.alep.disease_operation import generate_stock_lesions\n",
      "from alinea.alep.dispersal_emission import SeptoriaRainEmission\n",
      "from alinea.alep.dispersal_transport import SeptoriaRainDispersal\n",
      "from alinea.alep.washing import RapillyWashing\n",
      "from alinea.alep.growth_control import NoPriorityGrowthControl\n",
      "from alinea.alep.infection_control import BiotrophDUPositionModel\n",
      "from alinea.alep.senescence import WheatSeptoriaPositionedSenescence"
     ],
     "language": "python",
     "metadata": {},
     "outputs": [],
     "prompt_number": 1
    },
    {
     "cell_type": "heading",
     "level": 2,
     "metadata": {},
     "source": [
      "Typical scenario"
     ]
    },
    {
     "cell_type": "code",
     "collapsed": false,
     "input": [
      "def run_simulation(nb_plants, nb_phyelts, nb_lesions):\n",
      "    # Generate required canopy\n",
      "    g, domain_area = adel_sample(nb_sect=nb_phyelt, d=1000, p=nb_plants)\n",
      "    set_properties(g, label = 'LeafElement', \n",
      "                   area=5., green_area=5., healthy_area=5., senesced_area=0., position_senescence=1.,\n",
      "                   temp = 22., wetness = True, relative_humidity = 90, rain_intensity = 0., rain_duration = 0.)\n",
      "    \n",
      "    # Initiate all models used for simulation\n",
      "    septoria = plugin_septoria('septoria_age_physio')\n",
      "    Lesion = septoria.lesion()\n",
      "    growth_controler = NoPriorityGrowthControl()\n",
      "    infection_controler = BiotrophDUPositionModel()\n",
      "    sen_model = WheatSeptoriaPositionedSenescence(g, label='LeafElement')\n",
      "    emitter = SeptoriaRainEmission(domain_area=domain_area)\n",
      "    transporter = SeptoriaRainDispersal()\n",
      "    washor = RapillyWashing()\n",
      "    \n",
      "    # Initiate lesions on each phyto-element\n",
      "    lesions = generate_stock_lesions(nb_lesions=nb_lesions, disease=septoria)\n",
      "    leaves = get_leaves(g, label = 'LeafElement')\n",
      "    for leaf in leaves:\n",
      "        g.node(leaf).lesions = generate_stock_lesions(nb_lesions=nb_lesions, disease=septoria, position=[rd.random(), rd.random()])\n",
      "    \n",
      "    # Simulation\n",
      "    nb_steps=500\n",
      "    for i in range(nb_steps):\n",
      "        sen_model.find_senescent_lesions(g, label = 'LeafElement')\n",
      "        update_healthy_area(g, label = 'LeafElement')\n",
      "        infect(g, 1, infection_controler, label='LeafElement')\n",
      "        update(g, 1, growth_controler, sen_model, label='LeafElement')   \n",
      "        if i>0 and i%50==0:\n",
      "            set_properties(g,label = 'LeafElement', rain_intensity = 1., rain_duration = 1.)\n",
      "            g,_ = disperse(g, emitter, transporter, \"septoria\", label='LeafElement')\n",
      "            wash(g, washor, 1., label='LeafElement')\n",
      "        else:\n",
      "            set_properties(g,label = 'LeafElement', rain_intensity = 0., rain_duration = 0.)"
     ],
     "language": "python",
     "metadata": {},
     "outputs": [],
     "prompt_number": 5
    },
    {
     "cell_type": "heading",
     "level": 2,
     "metadata": {},
     "source": [
      "Benchmark for various numbers of plants, phyto-elements by leaf, initial number of lesions by leaf"
     ]
    },
    {
     "cell_type": "code",
     "collapsed": false,
     "input": [
      "nb_plants = [1, 10, 50, 100, 250, 500]\n",
      "nb_phyelts = [1, 2, 3, 4, 5]\n",
      "nb_lesions = [1, 10, 50, 100, 250, 500]\n",
      "for plant in nb_plants:\n",
      "    for phe in nb_phyelts:\n",
      "        for les in nb_lesions:\n",
      "            # ---------------------------\n",
      "            # Measure following function\n",
      "            # ---------------------------\n",
      "            run_simulation(plant, phe, les)"
     ],
     "language": "python",
     "metadata": {},
     "outputs": [],
     "prompt_number": 8
    },
    {
     "cell_type": "code",
     "collapsed": false,
     "input": [],
     "language": "python",
     "metadata": {},
     "outputs": []
    }
   ],
   "metadata": {}
  }
 ]
}