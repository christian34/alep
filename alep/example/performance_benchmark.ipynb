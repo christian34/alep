{
 "metadata": {
  "name": "",
  "signature": "sha256:f14c16f4c2f36368e7b514a44ccf4dbe55aacf388a2408cd779bd16b303d912c"
 },
 "nbformat": 3,
 "nbformat_minor": 0,
 "worksheets": [
  {
   "cells": [
    {
     "cell_type": "heading",
     "level": 1,
     "metadata": {},
     "source": [
      "Measure the computing performance (time, memory) of the model of septoria"
     ]
    },
    {
     "cell_type": "code",
     "collapsed": false,
     "input": [
      "# General useful imports\n",
      "import random as rd\n",
      "rd.seed(0)\n",
      "import numpy as np\n",
      "np.random.seed(0)\n",
      "import pandas as pd\n",
      "\n",
      "# Imports for wheat\n",
      "from alinea.alep.wheat import adel_sample\n",
      "from alinea.alep.architecture import set_properties, update_healthy_area, get_leaves\n",
      "from alinea.adel.mtg_interpreter import *\n",
      "from openalea.plantgl.all import *\n",
      "\n",
      "# Imports for disease\n",
      "from alinea.alep.protocol import *\n",
      "from alinea.alep.septoria import plugin_septoria\n",
      "from alinea.alep.disease_operation import generate_stock_lesions\n",
      "from alinea.alep.dispersal_emission import SeptoriaRainEmission\n",
      "from alinea.alep.dispersal_transport import SeptoriaRainDispersal\n",
      "from alinea.alep.washing import RapillyWashing\n",
      "from alinea.alep.growth_control import NoPriorityGrowthControl\n",
      "from alinea.alep.infection_control import BiotrophDUPositionModel\n",
      "from alinea.alep.senescence import WheatSeptoriaPositionedSenescence"
     ],
     "language": "python",
     "metadata": {},
     "outputs": [],
     "prompt_number": 1
    },
    {
     "cell_type": "heading",
     "level": 2,
     "metadata": {},
     "source": [
      "Typical scenario"
     ]
    },
    {
     "cell_type": "code",
     "collapsed": false,
     "input": [
      "def run_simulation(nb_plants, nb_phyelts, nb_lesions):\n",
      "    # Generate required canopy\n",
      "    g, domain_area = adel_sample(nb_sect=nb_phyelts, d=1000, p=nb_plants)\n",
      "    set_properties(g, label = 'LeafElement', \n",
      "                   area=5., green_area=5., healthy_area=5., senesced_area=0., position_senescence=1.,\n",
      "                   temp = 22., wetness = True, relative_humidity = 90, rain_intensity = 0., rain_duration = 0.)\n",
      "    \n",
      "    # Initiate all models used for simulation\n",
      "    septoria = plugin_septoria('septoria_age_physio')\n",
      "    Lesion = septoria.lesion()\n",
      "    growth_controler = NoPriorityGrowthControl()\n",
      "    infection_controler = BiotrophDUPositionModel()\n",
      "    sen_model = WheatSeptoriaPositionedSenescence(g, label='LeafElement')\n",
      "    emitter = SeptoriaRainEmission(domain_area=domain_area)\n",
      "    transporter = SeptoriaRainDispersal()\n",
      "    washor = RapillyWashing()\n",
      "    \n",
      "    # Initiate lesions on each phyto-element\n",
      "    lesions = generate_stock_lesions(nb_lesions=nb_lesions, disease=septoria)\n",
      "    leaves = get_leaves(g, label = 'LeafElement')\n",
      "    for leaf in leaves:\n",
      "        g.node(leaf).lesions = generate_stock_lesions(nb_lesions=nb_lesions, disease=septoria, position=[rd.random(), rd.random()])\n",
      "    \n",
      "    # Simulation\n",
      "    nb_steps=500\n",
      "    for i in range(nb_steps):\n",
      "        sen_model.find_senescent_lesions(g, label = 'LeafElement')\n",
      "        update_healthy_area(g, label = 'LeafElement')\n",
      "        infect(g, 1, infection_controler, label='LeafElement')\n",
      "        update(g, 1, growth_controler, sen_model, label='LeafElement')   \n",
      "        if i>0 and i%50==0:\n",
      "            set_properties(g,label = 'LeafElement', rain_intensity = 1., rain_duration = 1.)\n",
      "            g,_ = disperse(g, emitter, transporter, \"septoria\", label='LeafElement')\n",
      "            wash(g, washor, 1., label='LeafElement')\n",
      "        else:\n",
      "            set_properties(g,label = 'LeafElement', rain_intensity = 0., rain_duration = 0.)"
     ],
     "language": "python",
     "metadata": {},
     "outputs": [],
     "prompt_number": 8
    },
    {
     "cell_type": "heading",
     "level": 2,
     "metadata": {},
     "source": [
      "Benchmark for various numbers of plants, phyto-elements by leaf, initial number of lesions by leaf"
     ]
    },
    {
     "cell_type": "code",
     "collapsed": false,
     "input": [
      "# benchmark\n",
      "# DO NOT EXECUTE\n",
      "\n",
      "nb_plants = [1, 10, 50, 100, 250, 500]\n",
      "nb_phyelts = [1, 2, 3, 4, 5]\n",
      "nb_lesions = [1, 10, 50, 100, 250, 500]\n"
     ],
     "language": "python",
     "metadata": {},
     "outputs": [],
     "prompt_number": 8
    },
    {
     "cell_type": "code",
     "collapsed": false,
     "input": [
      "from openalea.core.path import path\n",
      "if path('bench.txt').exists():\n",
      "    df = pd.DataFrame.from_csv('bench.txt',sep=',',index_col=None)\n",
      "    rec = df.to_records()\n",
      "    results = {}\n",
      "    results['plant']=rec.plant.tolist()\n",
      "    results['phytomer']=rec.phytomer.tolist()\n",
      "    results['lesion']=rec.lesion.tolist()\n",
      "    results['time']=rec.time.tolist()\n",
      "\n",
      "else:    \n",
      "    results = {}\n",
      "    results['plant']=[]\n",
      "    results['phytomer']=[]\n",
      "    results['lesion']=[]\n",
      "    results['time']=[]\n",
      "    df = pd.DataFrame.from_dict(results)\n"
     ],
     "language": "python",
     "metadata": {},
     "outputs": [],
     "prompt_number": 58
    },
    {
     "cell_type": "code",
     "collapsed": false,
     "input": [
      "# time benchmark\n",
      "from datetime import datetime as dt\n",
      "\n",
      "def measure(plant=1, phy=1, les=1):\n",
      "    start = dt.now()\n",
      "    run_simulation(plant, phy, les)\n",
      "    timelaps = (dt.now()-start).total_seconds()\n",
      "    return timelaps\n",
      "\n",
      "def bench(plant, phy, les):\n",
      "    times=[measure() for i in range(3)]\n",
      "    _time =min(times)\n",
      "    print _time\n",
      "    results['plant'].append(plant)\n",
      "    results['phytomer'].append(phy)\n",
      "    results['lesion'].append(les)\n",
      "    results['time'].append(_time)"
     ],
     "language": "python",
     "metadata": {},
     "outputs": [],
     "prompt_number": 59
    },
    {
     "cell_type": "code",
     "collapsed": false,
     "input": [
      "nb_plants = [1, 2, 5, 10, 50, 100, 250, 500]\n",
      "nb_phyelts = [1, 2, 3, 4, 5]\n",
      "nb_lesions = [1, 10, 50, 100, 250, 500]\n",
      "\n",
      "plant = 2\n",
      "les = 1\n",
      "for plant in nb_plants[2:]:\n",
      "    for phy in nb_phyelts:\n",
      "        bench(plant=plant, phy=phy, les=les)"
     ],
     "language": "python",
     "metadata": {},
     "outputs": [
      {
       "output_type": "stream",
       "stream": "stdout",
       "text": [
        "11.083781\n",
        "10.76981"
       ]
      },
      {
       "output_type": "stream",
       "stream": "stdout",
       "text": [
        "\n",
        "10.695659"
       ]
      },
      {
       "output_type": "stream",
       "stream": "stdout",
       "text": [
        "\n",
        "10.768144"
       ]
      },
      {
       "output_type": "stream",
       "stream": "stdout",
       "text": [
        "\n",
        "13.0024"
       ]
      },
      {
       "output_type": "stream",
       "stream": "stdout",
       "text": [
        "\n",
        "10.862512"
       ]
      },
      {
       "output_type": "stream",
       "stream": "stdout",
       "text": [
        "\n",
        "11.176698"
       ]
      },
      {
       "output_type": "stream",
       "stream": "stdout",
       "text": [
        "\n",
        "11.079922"
       ]
      },
      {
       "output_type": "stream",
       "stream": "stdout",
       "text": [
        "\n",
        "11.001816"
       ]
      },
      {
       "output_type": "stream",
       "stream": "stdout",
       "text": [
        "\n",
        "10.817747"
       ]
      },
      {
       "output_type": "stream",
       "stream": "stdout",
       "text": [
        "\n",
        "11.065364"
       ]
      },
      {
       "output_type": "stream",
       "stream": "stdout",
       "text": [
        "\n",
        "10.751242"
       ]
      },
      {
       "output_type": "stream",
       "stream": "stdout",
       "text": [
        "\n",
        "13.020428"
       ]
      },
      {
       "output_type": "stream",
       "stream": "stdout",
       "text": [
        "\n",
        "10.688857"
       ]
      },
      {
       "output_type": "stream",
       "stream": "stdout",
       "text": [
        "\n",
        "10.680269"
       ]
      },
      {
       "output_type": "stream",
       "stream": "stdout",
       "text": [
        "\n",
        "10.751306"
       ]
      },
      {
       "output_type": "stream",
       "stream": "stdout",
       "text": [
        "\n",
        "12.739326"
       ]
      },
      {
       "output_type": "stream",
       "stream": "stdout",
       "text": [
        "\n",
        "10.908451"
       ]
      },
      {
       "output_type": "stream",
       "stream": "stdout",
       "text": [
        "\n",
        "12.709657"
       ]
      },
      {
       "output_type": "stream",
       "stream": "stdout",
       "text": [
        "\n",
        "10.475328"
       ]
      },
      {
       "output_type": "stream",
       "stream": "stdout",
       "text": [
        "\n",
        "10.773566"
       ]
      },
      {
       "output_type": "stream",
       "stream": "stdout",
       "text": [
        "\n",
        "10.544259"
       ]
      },
      {
       "output_type": "stream",
       "stream": "stdout",
       "text": [
        "\n",
        "12.720863"
       ]
      },
      {
       "output_type": "stream",
       "stream": "stdout",
       "text": [
        "\n",
        "10.77408"
       ]
      },
      {
       "output_type": "stream",
       "stream": "stdout",
       "text": [
        "\n",
        "12.72375"
       ]
      },
      {
       "output_type": "stream",
       "stream": "stdout",
       "text": [
        "\n",
        "10.805009"
       ]
      },
      {
       "output_type": "stream",
       "stream": "stdout",
       "text": [
        "\n",
        "10.751652"
       ]
      },
      {
       "output_type": "stream",
       "stream": "stdout",
       "text": [
        "\n",
        "12.705426"
       ]
      },
      {
       "output_type": "stream",
       "stream": "stdout",
       "text": [
        "\n",
        "10.754364"
       ]
      },
      {
       "output_type": "stream",
       "stream": "stdout",
       "text": [
        "\n",
        "10.533864"
       ]
      },
      {
       "output_type": "stream",
       "stream": "stdout",
       "text": [
        "\n"
       ]
      }
     ],
     "prompt_number": 63
    },
    {
     "cell_type": "code",
     "collapsed": false,
     "input": [
      "df = pd.DataFrame(results, columns=['plant', 'phytomer', 'lesion', 'time'])"
     ],
     "language": "python",
     "metadata": {},
     "outputs": [],
     "prompt_number": 64
    },
    {
     "cell_type": "code",
     "collapsed": false,
     "input": [
      "df"
     ],
     "language": "python",
     "metadata": {},
     "outputs": [
      {
       "html": [
        "<div style=\"max-height:1000px;max-width:1500px;overflow:auto;\">\n",
        "<table border=\"1\" class=\"dataframe\">\n",
        "  <thead>\n",
        "    <tr style=\"text-align: right;\">\n",
        "      <th></th>\n",
        "      <th>plant</th>\n",
        "      <th>phytomer</th>\n",
        "      <th>lesion</th>\n",
        "      <th>time</th>\n",
        "    </tr>\n",
        "  </thead>\n",
        "  <tbody>\n",
        "    <tr>\n",
        "      <th>0 </th>\n",
        "      <td>   1</td>\n",
        "      <td> 1</td>\n",
        "      <td> 1</td>\n",
        "      <td> 10.627049</td>\n",
        "    </tr>\n",
        "    <tr>\n",
        "      <th>1 </th>\n",
        "      <td>   1</td>\n",
        "      <td> 1</td>\n",
        "      <td> 1</td>\n",
        "      <td> 10.907634</td>\n",
        "    </tr>\n",
        "    <tr>\n",
        "      <th>2 </th>\n",
        "      <td>   1</td>\n",
        "      <td> 2</td>\n",
        "      <td> 1</td>\n",
        "      <td> 10.938432</td>\n",
        "    </tr>\n",
        "    <tr>\n",
        "      <th>3 </th>\n",
        "      <td>   1</td>\n",
        "      <td> 3</td>\n",
        "      <td> 1</td>\n",
        "      <td> 10.991154</td>\n",
        "    </tr>\n",
        "    <tr>\n",
        "      <th>4 </th>\n",
        "      <td>   1</td>\n",
        "      <td> 4</td>\n",
        "      <td> 1</td>\n",
        "      <td> 10.685268</td>\n",
        "    </tr>\n",
        "    <tr>\n",
        "      <th>5 </th>\n",
        "      <td>   1</td>\n",
        "      <td> 5</td>\n",
        "      <td> 1</td>\n",
        "      <td> 12.676800</td>\n",
        "    </tr>\n",
        "    <tr>\n",
        "      <th>6 </th>\n",
        "      <td>   2</td>\n",
        "      <td> 1</td>\n",
        "      <td> 1</td>\n",
        "      <td> 11.438227</td>\n",
        "    </tr>\n",
        "    <tr>\n",
        "      <th>7 </th>\n",
        "      <td>   2</td>\n",
        "      <td> 2</td>\n",
        "      <td> 1</td>\n",
        "      <td> 11.412489</td>\n",
        "    </tr>\n",
        "    <tr>\n",
        "      <th>8 </th>\n",
        "      <td>   2</td>\n",
        "      <td> 3</td>\n",
        "      <td> 1</td>\n",
        "      <td> 11.416815</td>\n",
        "    </tr>\n",
        "    <tr>\n",
        "      <th>9 </th>\n",
        "      <td>   2</td>\n",
        "      <td> 4</td>\n",
        "      <td> 1</td>\n",
        "      <td> 13.547632</td>\n",
        "    </tr>\n",
        "    <tr>\n",
        "      <th>10</th>\n",
        "      <td>   2</td>\n",
        "      <td> 5</td>\n",
        "      <td> 1</td>\n",
        "      <td> 11.314924</td>\n",
        "    </tr>\n",
        "    <tr>\n",
        "      <th>11</th>\n",
        "      <td>   5</td>\n",
        "      <td> 1</td>\n",
        "      <td> 1</td>\n",
        "      <td> 11.083781</td>\n",
        "    </tr>\n",
        "    <tr>\n",
        "      <th>12</th>\n",
        "      <td>   5</td>\n",
        "      <td> 2</td>\n",
        "      <td> 1</td>\n",
        "      <td> 10.769810</td>\n",
        "    </tr>\n",
        "    <tr>\n",
        "      <th>13</th>\n",
        "      <td>   5</td>\n",
        "      <td> 3</td>\n",
        "      <td> 1</td>\n",
        "      <td> 10.695659</td>\n",
        "    </tr>\n",
        "    <tr>\n",
        "      <th>14</th>\n",
        "      <td>   5</td>\n",
        "      <td> 4</td>\n",
        "      <td> 1</td>\n",
        "      <td> 10.768144</td>\n",
        "    </tr>\n",
        "    <tr>\n",
        "      <th>15</th>\n",
        "      <td>   5</td>\n",
        "      <td> 5</td>\n",
        "      <td> 1</td>\n",
        "      <td> 13.002400</td>\n",
        "    </tr>\n",
        "    <tr>\n",
        "      <th>16</th>\n",
        "      <td>  10</td>\n",
        "      <td> 1</td>\n",
        "      <td> 1</td>\n",
        "      <td> 10.862512</td>\n",
        "    </tr>\n",
        "    <tr>\n",
        "      <th>17</th>\n",
        "      <td>  10</td>\n",
        "      <td> 2</td>\n",
        "      <td> 1</td>\n",
        "      <td> 11.176698</td>\n",
        "    </tr>\n",
        "    <tr>\n",
        "      <th>18</th>\n",
        "      <td>  10</td>\n",
        "      <td> 3</td>\n",
        "      <td> 1</td>\n",
        "      <td> 11.079922</td>\n",
        "    </tr>\n",
        "    <tr>\n",
        "      <th>19</th>\n",
        "      <td>  10</td>\n",
        "      <td> 4</td>\n",
        "      <td> 1</td>\n",
        "      <td> 11.001816</td>\n",
        "    </tr>\n",
        "    <tr>\n",
        "      <th>20</th>\n",
        "      <td>  10</td>\n",
        "      <td> 5</td>\n",
        "      <td> 1</td>\n",
        "      <td> 10.817747</td>\n",
        "    </tr>\n",
        "    <tr>\n",
        "      <th>21</th>\n",
        "      <td>  50</td>\n",
        "      <td> 1</td>\n",
        "      <td> 1</td>\n",
        "      <td> 11.065364</td>\n",
        "    </tr>\n",
        "    <tr>\n",
        "      <th>22</th>\n",
        "      <td>  50</td>\n",
        "      <td> 2</td>\n",
        "      <td> 1</td>\n",
        "      <td> 10.751242</td>\n",
        "    </tr>\n",
        "    <tr>\n",
        "      <th>23</th>\n",
        "      <td>  50</td>\n",
        "      <td> 3</td>\n",
        "      <td> 1</td>\n",
        "      <td> 13.020428</td>\n",
        "    </tr>\n",
        "    <tr>\n",
        "      <th>24</th>\n",
        "      <td>  50</td>\n",
        "      <td> 4</td>\n",
        "      <td> 1</td>\n",
        "      <td> 10.688857</td>\n",
        "    </tr>\n",
        "    <tr>\n",
        "      <th>25</th>\n",
        "      <td>  50</td>\n",
        "      <td> 5</td>\n",
        "      <td> 1</td>\n",
        "      <td> 10.680269</td>\n",
        "    </tr>\n",
        "    <tr>\n",
        "      <th>26</th>\n",
        "      <td> 100</td>\n",
        "      <td> 1</td>\n",
        "      <td> 1</td>\n",
        "      <td> 10.751306</td>\n",
        "    </tr>\n",
        "    <tr>\n",
        "      <th>27</th>\n",
        "      <td> 100</td>\n",
        "      <td> 2</td>\n",
        "      <td> 1</td>\n",
        "      <td> 12.739326</td>\n",
        "    </tr>\n",
        "    <tr>\n",
        "      <th>28</th>\n",
        "      <td> 100</td>\n",
        "      <td> 3</td>\n",
        "      <td> 1</td>\n",
        "      <td> 10.908451</td>\n",
        "    </tr>\n",
        "    <tr>\n",
        "      <th>29</th>\n",
        "      <td> 100</td>\n",
        "      <td> 4</td>\n",
        "      <td> 1</td>\n",
        "      <td> 12.709657</td>\n",
        "    </tr>\n",
        "    <tr>\n",
        "      <th>30</th>\n",
        "      <td> 100</td>\n",
        "      <td> 5</td>\n",
        "      <td> 1</td>\n",
        "      <td> 10.475328</td>\n",
        "    </tr>\n",
        "    <tr>\n",
        "      <th>31</th>\n",
        "      <td> 250</td>\n",
        "      <td> 1</td>\n",
        "      <td> 1</td>\n",
        "      <td> 10.773566</td>\n",
        "    </tr>\n",
        "    <tr>\n",
        "      <th>32</th>\n",
        "      <td> 250</td>\n",
        "      <td> 2</td>\n",
        "      <td> 1</td>\n",
        "      <td> 10.544259</td>\n",
        "    </tr>\n",
        "    <tr>\n",
        "      <th>33</th>\n",
        "      <td> 250</td>\n",
        "      <td> 3</td>\n",
        "      <td> 1</td>\n",
        "      <td> 12.720863</td>\n",
        "    </tr>\n",
        "    <tr>\n",
        "      <th>34</th>\n",
        "      <td> 250</td>\n",
        "      <td> 4</td>\n",
        "      <td> 1</td>\n",
        "      <td> 10.774080</td>\n",
        "    </tr>\n",
        "    <tr>\n",
        "      <th>35</th>\n",
        "      <td> 250</td>\n",
        "      <td> 5</td>\n",
        "      <td> 1</td>\n",
        "      <td> 12.723750</td>\n",
        "    </tr>\n",
        "    <tr>\n",
        "      <th>36</th>\n",
        "      <td> 500</td>\n",
        "      <td> 1</td>\n",
        "      <td> 1</td>\n",
        "      <td> 10.805009</td>\n",
        "    </tr>\n",
        "    <tr>\n",
        "      <th>37</th>\n",
        "      <td> 500</td>\n",
        "      <td> 2</td>\n",
        "      <td> 1</td>\n",
        "      <td> 10.751652</td>\n",
        "    </tr>\n",
        "    <tr>\n",
        "      <th>38</th>\n",
        "      <td> 500</td>\n",
        "      <td> 3</td>\n",
        "      <td> 1</td>\n",
        "      <td> 12.705426</td>\n",
        "    </tr>\n",
        "    <tr>\n",
        "      <th>39</th>\n",
        "      <td> 500</td>\n",
        "      <td> 4</td>\n",
        "      <td> 1</td>\n",
        "      <td> 10.754364</td>\n",
        "    </tr>\n",
        "    <tr>\n",
        "      <th>40</th>\n",
        "      <td> 500</td>\n",
        "      <td> 5</td>\n",
        "      <td> 1</td>\n",
        "      <td> 10.533864</td>\n",
        "    </tr>\n",
        "  </tbody>\n",
        "</table>\n",
        "<p>41 rows \u00d7 4 columns</p>\n",
        "</div>"
       ],
       "metadata": {},
       "output_type": "pyout",
       "prompt_number": 65,
       "text": [
        "    plant  phytomer  lesion       time\n",
        "0       1         1       1  10.627049\n",
        "1       1         1       1  10.907634\n",
        "2       1         2       1  10.938432\n",
        "3       1         3       1  10.991154\n",
        "4       1         4       1  10.685268\n",
        "5       1         5       1  12.676800\n",
        "6       2         1       1  11.438227\n",
        "7       2         2       1  11.412489\n",
        "8       2         3       1  11.416815\n",
        "9       2         4       1  13.547632\n",
        "10      2         5       1  11.314924\n",
        "11      5         1       1  11.083781\n",
        "12      5         2       1  10.769810\n",
        "13      5         3       1  10.695659\n",
        "14      5         4       1  10.768144\n",
        "15      5         5       1  13.002400\n",
        "16     10         1       1  10.862512\n",
        "17     10         2       1  11.176698\n",
        "18     10         3       1  11.079922\n",
        "19     10         4       1  11.001816\n",
        "20     10         5       1  10.817747\n",
        "21     50         1       1  11.065364\n",
        "22     50         2       1  10.751242\n",
        "23     50         3       1  13.020428\n",
        "24     50         4       1  10.688857\n",
        "25     50         5       1  10.680269\n",
        "26    100         1       1  10.751306\n",
        "27    100         2       1  12.739326\n",
        "28    100         3       1  10.908451\n",
        "29    100         4       1  12.709657\n",
        "30    100         5       1  10.475328\n",
        "31    250         1       1  10.773566\n",
        "32    250         2       1  10.544259\n",
        "33    250         3       1  12.720863\n",
        "34    250         4       1  10.774080\n",
        "35    250         5       1  12.723750\n",
        "36    500         1       1  10.805009\n",
        "37    500         2       1  10.751652\n",
        "38    500         3       1  12.705426\n",
        "39    500         4       1  10.754364\n",
        "40    500         5       1  10.533864\n",
        "\n",
        "[41 rows x 4 columns]"
       ]
      }
     ],
     "prompt_number": 65
    },
    {
     "cell_type": "code",
     "collapsed": false,
     "input": [
      "df.to_csv('bench.txt', index=False)"
     ],
     "language": "python",
     "metadata": {},
     "outputs": [],
     "prompt_number": 66
    },
    {
     "cell_type": "code",
     "collapsed": false,
     "input": [],
     "language": "python",
     "metadata": {},
     "outputs": [
      {
       "metadata": {},
       "output_type": "pyout",
       "prompt_number": 38,
       "text": [
        "[1]"
       ]
      }
     ],
     "prompt_number": 38
    },
    {
     "cell_type": "code",
     "collapsed": false,
     "input": [
      "df = pd.DataFrame.from_csv('bench.txt',sep=',',index_col=None)"
     ],
     "language": "python",
     "metadata": {},
     "outputs": [],
     "prompt_number": 67
    },
    {
     "cell_type": "code",
     "collapsed": false,
     "input": [],
     "language": "python",
     "metadata": {},
     "outputs": []
    }
   ],
   "metadata": {}
  }
 ]
}