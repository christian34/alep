{
 "metadata": {
  "name": "",
  "signature": "sha256:ef6e8fcd8cfa65b6236668a752b8e84259d96e3e14e75c4f81d84c64b2af8a5b"
 },
 "nbformat": 3,
 "nbformat_minor": 0,
 "worksheets": [
  {
   "cells": [
    {
     "cell_type": "heading",
     "level": 1,
     "metadata": {},
     "source": [
      "Measure the computing performance (time, memory) of the model of septoria"
     ]
    },
    {
     "cell_type": "code",
     "collapsed": false,
     "input": [
      "# General useful imports\n",
      "import random as rd\n",
      "rd.seed(0)\n",
      "import numpy as np\n",
      "np.random.seed(0)\n",
      "import pandas as pd\n",
      "\n",
      "# Imports for wheat\n",
      "from alinea.alep.wheat import adel_sample\n",
      "from alinea.alep.architecture import set_properties, update_healthy_area, get_leaves\n",
      "from alinea.adel.mtg_interpreter import *\n",
      "from openalea.plantgl.all import *\n",
      "\n",
      "# Imports for disease\n",
      "from alinea.alep.protocol import *\n",
      "from alinea.alep.septoria import plugin_septoria\n",
      "from alinea.alep.disease_operation import generate_stock_lesions\n",
      "from alinea.alep.dispersal_emission import SeptoriaRainEmission\n",
      "from alinea.alep.dispersal_transport import SeptoriaRainDispersal\n",
      "from alinea.alep.washing import RapillyWashing\n",
      "from alinea.alep.growth_control import NoPriorityGrowthControl\n",
      "from alinea.alep.infection_control import BiotrophDUPositionModel\n",
      "from alinea.alep.senescence import WheatSeptoriaPositionedSenescence"
     ],
     "language": "python",
     "metadata": {},
     "outputs": [],
     "prompt_number": 1
    },
    {
     "cell_type": "heading",
     "level": 2,
     "metadata": {},
     "source": [
      "Typical scenario"
     ]
    },
    {
     "cell_type": "code",
     "collapsed": false,
     "input": [
      "def run_simulation(nb_plants, nb_phyelts, nb_lesions):\n",
      "    # Generate required canopy\n",
      "    g, domain_area = adel_sample(nb_sect=nb_phyelts, d=1000, p=nb_plants)\n",
      "    set_properties(g, label = 'LeafElement', \n",
      "                   area=5., green_area=5., healthy_area=5., senesced_area=0., position_senescence=1.,\n",
      "                   temp = 22., wetness = True, relative_humidity = 90, rain_intensity = 0., rain_duration = 0.)\n",
      "    \n",
      "    # Initiate all models used for simulation\n",
      "    septoria = plugin_septoria('septoria_age_physio')\n",
      "    Lesion = septoria.lesion()\n",
      "    growth_controler = NoPriorityGrowthControl()\n",
      "    infection_controler = BiotrophDUPositionModel()\n",
      "    sen_model = WheatSeptoriaPositionedSenescence(g, label='LeafElement')\n",
      "    emitter = SeptoriaRainEmission(domain_area=domain_area)\n",
      "    transporter = SeptoriaRainDispersal()\n",
      "    washor = RapillyWashing()\n",
      "    \n",
      "    # Initiate lesions on each phyto-element\n",
      "    lesions = generate_stock_lesions(nb_lesions=nb_lesions, disease=septoria)\n",
      "    leaves = get_leaves(g, label = 'LeafElement')\n",
      "    for leaf in leaves:\n",
      "        g.node(leaf).lesions = generate_stock_lesions(nb_lesions=nb_lesions, disease=septoria, position=[rd.random(), rd.random()])\n",
      "    \n",
      "    # Simulation\n",
      "    nb_steps=500\n",
      "    for i in range(nb_steps):\n",
      "        sen_model.find_senescent_lesions(g, label = 'LeafElement')\n",
      "        update_healthy_area(g, label = 'LeafElement')\n",
      "        infect(g, 1, infection_controler, label='LeafElement')\n",
      "        update(g, 1, growth_controler, sen_model, label='LeafElement')   \n",
      "        if i>0 and i%50==0:\n",
      "            set_properties(g,label = 'LeafElement', rain_intensity = 1., rain_duration = 1.)\n",
      "            g,_ = disperse(g, emitter, transporter, \"septoria\", label='LeafElement')\n",
      "            wash(g, washor, 1., label='LeafElement')\n",
      "        else:\n",
      "            set_properties(g,label = 'LeafElement', rain_intensity = 0., rain_duration = 0.)"
     ],
     "language": "python",
     "metadata": {},
     "outputs": [],
     "prompt_number": 2
    },
    {
     "cell_type": "heading",
     "level": 2,
     "metadata": {},
     "source": [
      "Benchmark for various numbers of plants, phyto-elements by leaf, initial number of lesions by leaf"
     ]
    },
    {
     "cell_type": "code",
     "collapsed": false,
     "input": [
      "# benchmark\n",
      "# DO NOT EXECUTE\n",
      "\n",
      "nb_plants = [1, 10, 50, 100, 250, 500]\n",
      "nb_phyelts = [1, 2, 3, 4, 5]\n",
      "nb_lesions = [1, 10, 50, 100, 250, 500]\n"
     ],
     "language": "python",
     "metadata": {},
     "outputs": [],
     "prompt_number": 3
    },
    {
     "cell_type": "code",
     "collapsed": false,
     "input": [
      "from openalea.core.path import path\n",
      "if path('bench.txt').exists():\n",
      "    df = pd.DataFrame.from_csv('bench.txt',sep=',',index_col=None)\n",
      "    rec = df.to_records()\n",
      "    results = {}\n",
      "    results['plant']=rec.plant.tolist()\n",
      "    results['phytomer']=rec.phytomer.tolist()\n",
      "    results['lesion']=rec.lesion.tolist()\n",
      "    results['time']=rec.time.tolist()\n",
      "\n",
      "else:    \n",
      "    results = {}\n",
      "    results['plant']=[]\n",
      "    results['phytomer']=[]\n",
      "    results['lesion']=[]\n",
      "    results['time']=[]\n",
      "    df = pd.DataFrame.from_dict(results)\n"
     ],
     "language": "python",
     "metadata": {},
     "outputs": [],
     "prompt_number": 4
    },
    {
     "cell_type": "code",
     "collapsed": false,
     "input": [
      "# time benchmark\n",
      "from datetime import datetime as dt\n",
      "\n",
      "def measure(plant=1, phy=1, les=1):\n",
      "    start = dt.now()\n",
      "    run_simulation(plant, phy, les)\n",
      "    timelaps = (dt.now()-start).total_seconds()\n",
      "    return timelaps\n",
      "\n",
      "def bench(plant, phy, les):\n",
      "    times=[measure(plant, phy, les) for i in range(3)]\n",
      "    _time =min(times)\n",
      "    print _time\n",
      "    results['plant'].append(plant)\n",
      "    results['phytomer'].append(phy)\n",
      "    results['lesion'].append(les)\n",
      "    results['time'].append(_time)"
     ],
     "language": "python",
     "metadata": {},
     "outputs": [],
     "prompt_number": 5
    },
    {
     "cell_type": "code",
     "collapsed": false,
     "input": [
      "nb_plants = [1, 2, 5, 10, 50, 100, 250, 500]\n",
      "nb_phyelts = [1, 2, 3, 4, 5]\n",
      "nb_lesions = [1, 10, 50, 100, 250, 500]\n",
      "\n",
      "\n",
      "les = 1\n",
      "for plant in nb_plants:\n",
      "    for phy in nb_phyelts:\n",
      "        bench(plant=plant, phy=phy, les=les)"
     ],
     "language": "python",
     "metadata": {},
     "outputs": [
      {
       "output_type": "stream",
       "stream": "stdout",
       "text": [
        "10.688758\n",
        "20.418968"
       ]
      },
      {
       "output_type": "stream",
       "stream": "stdout",
       "text": [
        "\n",
        "29.859778"
       ]
      },
      {
       "output_type": "stream",
       "stream": "stdout",
       "text": [
        "\n",
        "47.629078"
       ]
      },
      {
       "output_type": "stream",
       "stream": "stdout",
       "text": [
        "\n",
        "59.699433"
       ]
      },
      {
       "output_type": "stream",
       "stream": "stdout",
       "text": [
        "\n",
        "21.121446"
       ]
      },
      {
       "output_type": "stream",
       "stream": "stdout",
       "text": [
        "\n",
        "44.538807"
       ]
      },
      {
       "output_type": "stream",
       "stream": "stdout",
       "text": [
        "\n",
        "67.062836"
       ]
      },
      {
       "output_type": "stream",
       "stream": "stdout",
       "text": [
        "\n",
        "90.586519"
       ]
      },
      {
       "output_type": "stream",
       "stream": "stdout",
       "text": [
        "\n",
        "113.24685"
       ]
      },
      {
       "output_type": "stream",
       "stream": "stdout",
       "text": [
        "\n"
       ]
      },
      {
       "ename": "KeyboardInterrupt",
       "evalue": "",
       "output_type": "pyerr",
       "traceback": [
        "\u001b[0;31m---------------------------------------------------------------------------\u001b[0m\n\u001b[0;31mKeyboardInterrupt\u001b[0m                         Traceback (most recent call last)",
        "\u001b[0;32m<ipython-input-6-454506d89ff6>\u001b[0m in \u001b[0;36m<module>\u001b[0;34m()\u001b[0m\n\u001b[1;32m      7\u001b[0m \u001b[0;32mfor\u001b[0m \u001b[0mplant\u001b[0m \u001b[0;32min\u001b[0m \u001b[0mnb_plants\u001b[0m\u001b[0;34m:\u001b[0m\u001b[0;34m\u001b[0m\u001b[0m\n\u001b[1;32m      8\u001b[0m     \u001b[0;32mfor\u001b[0m \u001b[0mphy\u001b[0m \u001b[0;32min\u001b[0m \u001b[0mnb_phyelts\u001b[0m\u001b[0;34m:\u001b[0m\u001b[0;34m\u001b[0m\u001b[0m\n\u001b[0;32m----> 9\u001b[0;31m         \u001b[0mbench\u001b[0m\u001b[0;34m(\u001b[0m\u001b[0mplant\u001b[0m\u001b[0;34m=\u001b[0m\u001b[0mplant\u001b[0m\u001b[0;34m,\u001b[0m \u001b[0mphy\u001b[0m\u001b[0;34m=\u001b[0m\u001b[0mphy\u001b[0m\u001b[0;34m,\u001b[0m \u001b[0mles\u001b[0m\u001b[0;34m=\u001b[0m\u001b[0mles\u001b[0m\u001b[0;34m)\u001b[0m\u001b[0;34m\u001b[0m\u001b[0m\n\u001b[0m",
        "\u001b[0;32m<ipython-input-5-780c39c5cf26>\u001b[0m in \u001b[0;36mbench\u001b[0;34m(plant, phy, les)\u001b[0m\n\u001b[1;32m      9\u001b[0m \u001b[0;34m\u001b[0m\u001b[0m\n\u001b[1;32m     10\u001b[0m \u001b[0;32mdef\u001b[0m \u001b[0mbench\u001b[0m\u001b[0;34m(\u001b[0m\u001b[0mplant\u001b[0m\u001b[0;34m,\u001b[0m \u001b[0mphy\u001b[0m\u001b[0;34m,\u001b[0m \u001b[0mles\u001b[0m\u001b[0;34m)\u001b[0m\u001b[0;34m:\u001b[0m\u001b[0;34m\u001b[0m\u001b[0m\n\u001b[0;32m---> 11\u001b[0;31m     \u001b[0mtimes\u001b[0m\u001b[0;34m=\u001b[0m\u001b[0;34m[\u001b[0m\u001b[0mmeasure\u001b[0m\u001b[0;34m(\u001b[0m\u001b[0mplant\u001b[0m\u001b[0;34m,\u001b[0m \u001b[0mphy\u001b[0m\u001b[0;34m,\u001b[0m \u001b[0mles\u001b[0m\u001b[0;34m)\u001b[0m \u001b[0;32mfor\u001b[0m \u001b[0mi\u001b[0m \u001b[0;32min\u001b[0m \u001b[0mrange\u001b[0m\u001b[0;34m(\u001b[0m\u001b[0;36m3\u001b[0m\u001b[0;34m)\u001b[0m\u001b[0;34m]\u001b[0m\u001b[0;34m\u001b[0m\u001b[0m\n\u001b[0m\u001b[1;32m     12\u001b[0m     \u001b[0m_time\u001b[0m \u001b[0;34m=\u001b[0m\u001b[0mmin\u001b[0m\u001b[0;34m(\u001b[0m\u001b[0mtimes\u001b[0m\u001b[0;34m)\u001b[0m\u001b[0;34m\u001b[0m\u001b[0m\n\u001b[1;32m     13\u001b[0m     \u001b[0;32mprint\u001b[0m \u001b[0m_time\u001b[0m\u001b[0;34m\u001b[0m\u001b[0m\n",
        "\u001b[0;32m<ipython-input-5-780c39c5cf26>\u001b[0m in \u001b[0;36mmeasure\u001b[0;34m(plant, phy, les)\u001b[0m\n\u001b[1;32m      4\u001b[0m \u001b[0;32mdef\u001b[0m \u001b[0mmeasure\u001b[0m\u001b[0;34m(\u001b[0m\u001b[0mplant\u001b[0m\u001b[0;34m=\u001b[0m\u001b[0;36m1\u001b[0m\u001b[0;34m,\u001b[0m \u001b[0mphy\u001b[0m\u001b[0;34m=\u001b[0m\u001b[0;36m1\u001b[0m\u001b[0;34m,\u001b[0m \u001b[0mles\u001b[0m\u001b[0;34m=\u001b[0m\u001b[0;36m1\u001b[0m\u001b[0;34m)\u001b[0m\u001b[0;34m:\u001b[0m\u001b[0;34m\u001b[0m\u001b[0m\n\u001b[1;32m      5\u001b[0m     \u001b[0mstart\u001b[0m \u001b[0;34m=\u001b[0m \u001b[0mdt\u001b[0m\u001b[0;34m.\u001b[0m\u001b[0mnow\u001b[0m\u001b[0;34m(\u001b[0m\u001b[0;34m)\u001b[0m\u001b[0;34m\u001b[0m\u001b[0m\n\u001b[0;32m----> 6\u001b[0;31m     \u001b[0mrun_simulation\u001b[0m\u001b[0;34m(\u001b[0m\u001b[0mplant\u001b[0m\u001b[0;34m,\u001b[0m \u001b[0mphy\u001b[0m\u001b[0;34m,\u001b[0m \u001b[0mles\u001b[0m\u001b[0;34m)\u001b[0m\u001b[0;34m\u001b[0m\u001b[0m\n\u001b[0m\u001b[1;32m      7\u001b[0m     \u001b[0mtimelaps\u001b[0m \u001b[0;34m=\u001b[0m \u001b[0;34m(\u001b[0m\u001b[0mdt\u001b[0m\u001b[0;34m.\u001b[0m\u001b[0mnow\u001b[0m\u001b[0;34m(\u001b[0m\u001b[0;34m)\u001b[0m\u001b[0;34m-\u001b[0m\u001b[0mstart\u001b[0m\u001b[0;34m)\u001b[0m\u001b[0;34m.\u001b[0m\u001b[0mtotal_seconds\u001b[0m\u001b[0;34m(\u001b[0m\u001b[0;34m)\u001b[0m\u001b[0;34m\u001b[0m\u001b[0m\n\u001b[1;32m      8\u001b[0m     \u001b[0;32mreturn\u001b[0m \u001b[0mtimelaps\u001b[0m\u001b[0;34m\u001b[0m\u001b[0m\n",
        "\u001b[0;32m<ipython-input-2-734c75a47276>\u001b[0m in \u001b[0;36mrun_simulation\u001b[0;34m(nb_plants, nb_phyelts, nb_lesions)\u001b[0m\n\u001b[1;32m     28\u001b[0m         \u001b[0mupdate_healthy_area\u001b[0m\u001b[0;34m(\u001b[0m\u001b[0mg\u001b[0m\u001b[0;34m,\u001b[0m \u001b[0mlabel\u001b[0m \u001b[0;34m=\u001b[0m \u001b[0;34m'LeafElement'\u001b[0m\u001b[0;34m)\u001b[0m\u001b[0;34m\u001b[0m\u001b[0m\n\u001b[1;32m     29\u001b[0m         \u001b[0minfect\u001b[0m\u001b[0;34m(\u001b[0m\u001b[0mg\u001b[0m\u001b[0;34m,\u001b[0m \u001b[0;36m1\u001b[0m\u001b[0;34m,\u001b[0m \u001b[0minfection_controler\u001b[0m\u001b[0;34m,\u001b[0m \u001b[0mlabel\u001b[0m\u001b[0;34m=\u001b[0m\u001b[0;34m'LeafElement'\u001b[0m\u001b[0;34m)\u001b[0m\u001b[0;34m\u001b[0m\u001b[0m\n\u001b[0;32m---> 30\u001b[0;31m         \u001b[0mupdate\u001b[0m\u001b[0;34m(\u001b[0m\u001b[0mg\u001b[0m\u001b[0;34m,\u001b[0m \u001b[0;36m1\u001b[0m\u001b[0;34m,\u001b[0m \u001b[0mgrowth_controler\u001b[0m\u001b[0;34m,\u001b[0m \u001b[0msen_model\u001b[0m\u001b[0;34m,\u001b[0m \u001b[0mlabel\u001b[0m\u001b[0;34m=\u001b[0m\u001b[0;34m'LeafElement'\u001b[0m\u001b[0;34m)\u001b[0m\u001b[0;34m\u001b[0m\u001b[0m\n\u001b[0m\u001b[1;32m     31\u001b[0m         \u001b[0;32mif\u001b[0m \u001b[0mi\u001b[0m\u001b[0;34m>\u001b[0m\u001b[0;36m0\u001b[0m \u001b[0;32mand\u001b[0m \u001b[0mi\u001b[0m\u001b[0;34m%\u001b[0m\u001b[0;36m50\u001b[0m\u001b[0;34m==\u001b[0m\u001b[0;36m0\u001b[0m\u001b[0;34m:\u001b[0m\u001b[0;34m\u001b[0m\u001b[0m\n\u001b[1;32m     32\u001b[0m             \u001b[0mset_properties\u001b[0m\u001b[0;34m(\u001b[0m\u001b[0mg\u001b[0m\u001b[0;34m,\u001b[0m\u001b[0mlabel\u001b[0m \u001b[0;34m=\u001b[0m \u001b[0;34m'LeafElement'\u001b[0m\u001b[0;34m,\u001b[0m \u001b[0mrain_intensity\u001b[0m \u001b[0;34m=\u001b[0m \u001b[0;36m1.\u001b[0m\u001b[0;34m,\u001b[0m \u001b[0mrain_duration\u001b[0m \u001b[0;34m=\u001b[0m \u001b[0;36m1.\u001b[0m\u001b[0;34m)\u001b[0m\u001b[0;34m\u001b[0m\u001b[0m\n",
        "\u001b[0;32m/Users/pradal/devlp/alinea/alep/src/alinea/alep/protocol.pyc\u001b[0m in \u001b[0;36mupdate\u001b[0;34m(g, dt, growth_control_model, senescence_model, label, activate)\u001b[0m\n\u001b[1;32m    223\u001b[0m                 \u001b[0;32mfor\u001b[0m \u001b[0mlesion\u001b[0m \u001b[0;32min\u001b[0m \u001b[0ml\u001b[0m\u001b[0;34m:\u001b[0m\u001b[0;34m\u001b[0m\u001b[0m\n\u001b[1;32m    224\u001b[0m                     \u001b[0mleaf\u001b[0m\u001b[0;34m=\u001b[0m\u001b[0mg\u001b[0m\u001b[0;34m.\u001b[0m\u001b[0mnode\u001b[0m\u001b[0;34m(\u001b[0m\u001b[0mvid\u001b[0m\u001b[0;34m)\u001b[0m\u001b[0;34m\u001b[0m\u001b[0m\n\u001b[0;32m--> 225\u001b[0;31m                     \u001b[0mlesion\u001b[0m\u001b[0;34m.\u001b[0m\u001b[0mupdate\u001b[0m\u001b[0;34m(\u001b[0m\u001b[0mdt\u001b[0m\u001b[0;34m,\u001b[0m \u001b[0mleaf\u001b[0m\u001b[0;34m)\u001b[0m\u001b[0;34m\u001b[0m\u001b[0m\n\u001b[0m\u001b[1;32m    226\u001b[0m \u001b[0;34m\u001b[0m\u001b[0m\n\u001b[1;32m    227\u001b[0m             \u001b[0;31m# 3. Allocate or not growth demand, and compute corresponding production of spores\u001b[0m\u001b[0;34m\u001b[0m\u001b[0;34m\u001b[0m\u001b[0m\n",
        "\u001b[0;32m/Users/pradal/devlp/alinea/alep/src/alinea/alep/septoria_age_physio.pyc\u001b[0m in \u001b[0;36mupdate\u001b[0;34m(self, dt, leaf)\u001b[0m\n\u001b[1;32m    111\u001b[0m             \u001b[0mself\u001b[0m\u001b[0;34m.\u001b[0m\u001b[0mage_dday\u001b[0m \u001b[0;34m+=\u001b[0m \u001b[0mself\u001b[0m\u001b[0;34m.\u001b[0m\u001b[0mddday\u001b[0m\u001b[0;34m\u001b[0m\u001b[0m\n\u001b[1;32m    112\u001b[0m             \u001b[0;31m# Update growth demand and status\u001b[0m\u001b[0;34m\u001b[0m\u001b[0;34m\u001b[0m\u001b[0m\n\u001b[0;32m--> 113\u001b[0;31m             \u001b[0mself\u001b[0m\u001b[0;34m.\u001b[0m\u001b[0mupdate_status\u001b[0m\u001b[0;34m(\u001b[0m\u001b[0;34m)\u001b[0m\u001b[0;34m\u001b[0m\u001b[0m\n\u001b[0m\u001b[1;32m    114\u001b[0m \u001b[0;34m\u001b[0m\u001b[0m\n\u001b[1;32m    115\u001b[0m         \u001b[0;31m# Temporary\u001b[0m\u001b[0;34m\u001b[0m\u001b[0;34m\u001b[0m\u001b[0m\n",
        "\u001b[0;32m/Users/pradal/devlp/alinea/alep/src/alinea/alep/septoria_age_physio.pyc\u001b[0m in \u001b[0;36mupdate_status\u001b[0;34m(self)\u001b[0m\n\u001b[1;32m    566\u001b[0m             \u001b[0mself\u001b[0m\u001b[0;34m.\u001b[0m\u001b[0mincubation\u001b[0m\u001b[0;34m(\u001b[0m\u001b[0;34m)\u001b[0m\u001b[0;34m\u001b[0m\u001b[0m\n\u001b[1;32m    567\u001b[0m         \u001b[0;32melif\u001b[0m \u001b[0mstatus\u001b[0m \u001b[0;34m<=\u001b[0m \u001b[0mf\u001b[0m\u001b[0;34m.\u001b[0m\u001b[0mCHLOROTIC\u001b[0m\u001b[0;34m:\u001b[0m\u001b[0;34m\u001b[0m\u001b[0m\n\u001b[0;32m--> 568\u001b[0;31m             \u001b[0mself\u001b[0m\u001b[0;34m.\u001b[0m\u001b[0mchlorosis\u001b[0m\u001b[0;34m(\u001b[0m\u001b[0;34m)\u001b[0m\u001b[0;34m\u001b[0m\u001b[0m\n\u001b[0m\u001b[1;32m    569\u001b[0m         \u001b[0;32melif\u001b[0m \u001b[0mstatus\u001b[0m \u001b[0;34m<=\u001b[0m \u001b[0mf\u001b[0m\u001b[0;34m.\u001b[0m\u001b[0mNECROTIC\u001b[0m\u001b[0;34m:\u001b[0m\u001b[0;34m\u001b[0m\u001b[0m\n\u001b[1;32m    570\u001b[0m             \u001b[0;32mif\u001b[0m \u001b[0mself\u001b[0m\u001b[0;34m.\u001b[0m\u001b[0mstatus_edge\u001b[0m \u001b[0;34m<=\u001b[0m \u001b[0mf\u001b[0m\u001b[0;34m.\u001b[0m\u001b[0mCHLOROTIC\u001b[0m\u001b[0;34m:\u001b[0m\u001b[0;34m\u001b[0m\u001b[0m\n",
        "\u001b[0;32m/Users/pradal/devlp/alinea/alep/src/alinea/alep/septoria_age_physio.pyc\u001b[0m in \u001b[0;36mchlorosis\u001b[0;34m(self)\u001b[0m\n\u001b[1;32m    303\u001b[0m                 \u001b[0;32mfor\u001b[0m \u001b[0mj\u001b[0m \u001b[0;32min\u001b[0m \u001b[0mrange\u001b[0m\u001b[0;34m(\u001b[0m\u001b[0mlen\u001b[0m\u001b[0;34m(\u001b[0m\u001b[0mnew_ends\u001b[0m\u001b[0;34m)\u001b[0m\u001b[0;34m)\u001b[0m\u001b[0;34m:\u001b[0m\u001b[0;34m\u001b[0m\u001b[0m\n\u001b[1;32m    304\u001b[0m                     \u001b[0;31m# Find beginnings and ends of rings in new class\u001b[0m\u001b[0;34m\u001b[0m\u001b[0;34m\u001b[0m\u001b[0m\n\u001b[0;32m--> 305\u001b[0;31m                     \u001b[0mind_begs\u001b[0m \u001b[0;34m=\u001b[0m \u001b[0mnp\u001b[0m\u001b[0;34m.\u001b[0m\u001b[0mwhere\u001b[0m\u001b[0;34m(\u001b[0m\u001b[0;34m(\u001b[0m\u001b[0mnew_ends\u001b[0m\u001b[0;34m[\u001b[0m\u001b[0mj\u001b[0m\u001b[0;34m]\u001b[0m\u001b[0;34m-\u001b[0m\u001b[0mwidth\u001b[0m \u001b[0;34m<=\u001b[0m \u001b[0mbegs_prog\u001b[0m\u001b[0;34m)\u001b[0m \u001b[0;34m*\u001b[0m \u001b[0;34m(\u001b[0m\u001b[0mbegs_prog\u001b[0m \u001b[0;34m<\u001b[0m \u001b[0mnew_ends\u001b[0m\u001b[0;34m[\u001b[0m\u001b[0mj\u001b[0m\u001b[0;34m]\u001b[0m\u001b[0;34m)\u001b[0m\u001b[0;34m)\u001b[0m\u001b[0;34m[\u001b[0m\u001b[0;36m0\u001b[0m\u001b[0;34m]\u001b[0m\u001b[0;34m\u001b[0m\u001b[0m\n\u001b[0m\u001b[1;32m    306\u001b[0m                     \u001b[0mind_ends\u001b[0m \u001b[0;34m=\u001b[0m \u001b[0mnp\u001b[0m\u001b[0;34m.\u001b[0m\u001b[0mwhere\u001b[0m\u001b[0;34m(\u001b[0m\u001b[0;34m(\u001b[0m\u001b[0mnew_ends\u001b[0m\u001b[0;34m[\u001b[0m\u001b[0mj\u001b[0m\u001b[0;34m]\u001b[0m\u001b[0;34m-\u001b[0m\u001b[0mwidth\u001b[0m \u001b[0;34m<=\u001b[0m \u001b[0mends_prog\u001b[0m\u001b[0;34m)\u001b[0m \u001b[0;34m*\u001b[0m \u001b[0;34m(\u001b[0m\u001b[0mends_prog\u001b[0m \u001b[0;34m<\u001b[0m \u001b[0mnew_ends\u001b[0m\u001b[0;34m[\u001b[0m\u001b[0mj\u001b[0m\u001b[0;34m]\u001b[0m\u001b[0;34m)\u001b[0m\u001b[0;34m)\u001b[0m\u001b[0;34m[\u001b[0m\u001b[0;36m0\u001b[0m\u001b[0;34m]\u001b[0m\u001b[0;34m\u001b[0m\u001b[0m\n\u001b[1;32m    307\u001b[0m                     \u001b[0mindexes\u001b[0m \u001b[0;34m=\u001b[0m \u001b[0mnp\u001b[0m\u001b[0;34m.\u001b[0m\u001b[0munique\u001b[0m\u001b[0;34m(\u001b[0m\u001b[0mnp\u001b[0m\u001b[0;34m.\u001b[0m\u001b[0mappend\u001b[0m\u001b[0;34m(\u001b[0m\u001b[0mind_begs\u001b[0m\u001b[0;34m,\u001b[0m \u001b[0mind_ends\u001b[0m\u001b[0;34m)\u001b[0m\u001b[0;34m)\u001b[0m\u001b[0;34m\u001b[0m\u001b[0m\n",
        "\u001b[0;31mKeyboardInterrupt\u001b[0m: "
       ]
      }
     ],
     "prompt_number": 6
    },
    {
     "cell_type": "code",
     "collapsed": false,
     "input": [
      "df = pd.DataFrame(results, columns=['plant', 'phytomer', 'lesion', 'time'])"
     ],
     "language": "python",
     "metadata": {},
     "outputs": [],
     "prompt_number": 7
    },
    {
     "cell_type": "code",
     "collapsed": false,
     "input": [
      "df"
     ],
     "language": "python",
     "metadata": {},
     "outputs": [
      {
       "html": [
        "<div style=\"max-height:1000px;max-width:1500px;overflow:auto;\">\n",
        "<table border=\"1\" class=\"dataframe\">\n",
        "  <thead>\n",
        "    <tr style=\"text-align: right;\">\n",
        "      <th></th>\n",
        "      <th>plant</th>\n",
        "      <th>phytomer</th>\n",
        "      <th>lesion</th>\n",
        "      <th>time</th>\n",
        "    </tr>\n",
        "  </thead>\n",
        "  <tbody>\n",
        "    <tr>\n",
        "      <th>0</th>\n",
        "      <td> 1</td>\n",
        "      <td> 1</td>\n",
        "      <td> 1</td>\n",
        "      <td>  10.688758</td>\n",
        "    </tr>\n",
        "    <tr>\n",
        "      <th>1</th>\n",
        "      <td> 1</td>\n",
        "      <td> 2</td>\n",
        "      <td> 1</td>\n",
        "      <td>  20.418968</td>\n",
        "    </tr>\n",
        "    <tr>\n",
        "      <th>2</th>\n",
        "      <td> 1</td>\n",
        "      <td> 3</td>\n",
        "      <td> 1</td>\n",
        "      <td>  29.859778</td>\n",
        "    </tr>\n",
        "    <tr>\n",
        "      <th>3</th>\n",
        "      <td> 1</td>\n",
        "      <td> 4</td>\n",
        "      <td> 1</td>\n",
        "      <td>  47.629078</td>\n",
        "    </tr>\n",
        "    <tr>\n",
        "      <th>4</th>\n",
        "      <td> 1</td>\n",
        "      <td> 5</td>\n",
        "      <td> 1</td>\n",
        "      <td>  59.699433</td>\n",
        "    </tr>\n",
        "    <tr>\n",
        "      <th>5</th>\n",
        "      <td> 2</td>\n",
        "      <td> 1</td>\n",
        "      <td> 1</td>\n",
        "      <td>  21.121446</td>\n",
        "    </tr>\n",
        "    <tr>\n",
        "      <th>6</th>\n",
        "      <td> 2</td>\n",
        "      <td> 2</td>\n",
        "      <td> 1</td>\n",
        "      <td>  44.538807</td>\n",
        "    </tr>\n",
        "    <tr>\n",
        "      <th>7</th>\n",
        "      <td> 2</td>\n",
        "      <td> 3</td>\n",
        "      <td> 1</td>\n",
        "      <td>  67.062836</td>\n",
        "    </tr>\n",
        "    <tr>\n",
        "      <th>8</th>\n",
        "      <td> 2</td>\n",
        "      <td> 4</td>\n",
        "      <td> 1</td>\n",
        "      <td>  90.586519</td>\n",
        "    </tr>\n",
        "    <tr>\n",
        "      <th>9</th>\n",
        "      <td> 2</td>\n",
        "      <td> 5</td>\n",
        "      <td> 1</td>\n",
        "      <td> 113.246850</td>\n",
        "    </tr>\n",
        "  </tbody>\n",
        "</table>\n",
        "<p>10 rows \u00d7 4 columns</p>\n",
        "</div>"
       ],
       "metadata": {},
       "output_type": "pyout",
       "prompt_number": 8,
       "text": [
        "   plant  phytomer  lesion        time\n",
        "0      1         1       1   10.688758\n",
        "1      1         2       1   20.418968\n",
        "2      1         3       1   29.859778\n",
        "3      1         4       1   47.629078\n",
        "4      1         5       1   59.699433\n",
        "5      2         1       1   21.121446\n",
        "6      2         2       1   44.538807\n",
        "7      2         3       1   67.062836\n",
        "8      2         4       1   90.586519\n",
        "9      2         5       1  113.246850\n",
        "\n",
        "[10 rows x 4 columns]"
       ]
      }
     ],
     "prompt_number": 8
    },
    {
     "cell_type": "code",
     "collapsed": false,
     "input": [
      "df.to_csv('bench.txt', index=False)"
     ],
     "language": "python",
     "metadata": {},
     "outputs": [],
     "prompt_number": 9
    },
    {
     "cell_type": "code",
     "collapsed": false,
     "input": [
      "df = pd.DataFrame.from_csv('bench.txt',sep=',',index_col=None)"
     ],
     "language": "python",
     "metadata": {},
     "outputs": [],
     "prompt_number": 10
    },
    {
     "cell_type": "code",
     "collapsed": false,
     "input": [
      "%matplotlib inline\n"
     ],
     "language": "python",
     "metadata": {},
     "outputs": [],
     "prompt_number": 11
    },
    {
     "cell_type": "code",
     "collapsed": false,
     "input": [
      "df.groupby('plant').plot(y='time', x='phytomer')"
     ],
     "language": "python",
     "metadata": {},
     "outputs": [
      {
       "metadata": {},
       "output_type": "pyout",
       "prompt_number": 12,
       "text": [
        "plant\n",
        "1        Axes(0.125,0.125;0.775x0.775)\n",
        "2        Axes(0.125,0.125;0.775x0.775)\n",
        "dtype: object"
       ]
      },
      {
       "metadata": {},
       "output_type": "display_data",
       "png": "[encoded data removed]",
       "text": [
        "<matplotlib.figure.Figure at 0x116300290>"
       ]
      }
     ],
     "prompt_number": 12
    },
    {
     "cell_type": "code",
     "collapsed": false,
     "input": [],
     "language": "python",
     "metadata": {},
     "outputs": []
    }
   ],
   "metadata": {}
  }
 ]
}